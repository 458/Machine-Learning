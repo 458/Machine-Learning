{
 "cells": [
  {
   "cell_type": "code",
   "execution_count": 35,
   "metadata": {},
   "outputs": [
    {
     "name": "stdout",
     "output_type": "stream",
     "text": [
      "[nltk_data] Downloading package stopwords to\n",
      "[nltk_data]     C:\\Users\\Viktor\\AppData\\Roaming\\nltk_data...\n",
      "[nltk_data]   Package stopwords is already up-to-date!\n"
     ]
    }
   ],
   "source": [
    "import numpy as np\n",
    "import pandas as pd\n",
    "from sklearn.feature_extraction.text import CountVectorizer, TfidfTransformer\n",
    "from sklearn.naive_bayes import MultinomialNB\n",
    "from sklearn.pipeline import Pipeline\n",
    "from sklearn.model_selection import GridSearchCV\n",
    "import re\n",
    "import nltk\n",
    "nltk.download('stopwords')\n",
    "from nltk.corpus import stopwords"
   ]
  },
  {
   "cell_type": "code",
   "execution_count": 42,
   "metadata": {},
   "outputs": [
    {
     "name": "stdout",
     "output_type": "stream",
     "text": [
      "(19579, 2) (8392, 1) (8392, 3)\n",
      "{'author'}\n"
     ]
    }
   ],
   "source": [
    "train = pd.read_csv(\"C:\\\\Users\\\\Viktor\\\\Desktop\\\\Spooky_Authors\\\\train.csv\", index_col=['id'])\n",
    "test = pd.read_csv(\"C:\\\\Users\\\\Viktor\\\\Desktop\\\\Spooky_Authors\\\\test.csv\", index_col=['id'])\n",
    "sample_submission = pd.read_csv(\"C:\\\\Users\\\\Viktor\\\\Desktop\\\\Spooky_Authors\\\\sample_submission.csv\", index_col=['id'])\n",
    "\n",
    "print(train.shape, test.shape, sample_submission.shape)\n",
    "print(set(train.columns) - set(test.columns))"
   ]
  },
  {
   "cell_type": "code",
   "execution_count": 43,
   "metadata": {},
   "outputs": [
    {
     "data": {
      "text/html": [
       "<div>\n",
       "<style scoped>\n",
       "    .dataframe tbody tr th:only-of-type {\n",
       "        vertical-align: middle;\n",
       "    }\n",
       "\n",
       "    .dataframe tbody tr th {\n",
       "        vertical-align: top;\n",
       "    }\n",
       "\n",
       "    .dataframe thead th {\n",
       "        text-align: right;\n",
       "    }\n",
       "</style>\n",
       "<table border=\"1\" class=\"dataframe\">\n",
       "  <thead>\n",
       "    <tr style=\"text-align: right;\">\n",
       "      <th></th>\n",
       "      <th>text</th>\n",
       "      <th>author</th>\n",
       "    </tr>\n",
       "    <tr>\n",
       "      <th>id</th>\n",
       "      <th></th>\n",
       "      <th></th>\n",
       "    </tr>\n",
       "  </thead>\n",
       "  <tbody>\n",
       "    <tr>\n",
       "      <th>id26305</th>\n",
       "      <td>This process, however, afforded me no means of...</td>\n",
       "      <td>EAP</td>\n",
       "    </tr>\n",
       "    <tr>\n",
       "      <th>id17569</th>\n",
       "      <td>It never once occurred to me that the fumbling...</td>\n",
       "      <td>HPL</td>\n",
       "    </tr>\n",
       "    <tr>\n",
       "      <th>id11008</th>\n",
       "      <td>In his left hand was a gold snuff box, from wh...</td>\n",
       "      <td>EAP</td>\n",
       "    </tr>\n",
       "    <tr>\n",
       "      <th>id27763</th>\n",
       "      <td>How lovely is spring As we looked from Windsor...</td>\n",
       "      <td>MWS</td>\n",
       "    </tr>\n",
       "    <tr>\n",
       "      <th>id12958</th>\n",
       "      <td>Finding nothing else, not even gold, the Super...</td>\n",
       "      <td>HPL</td>\n",
       "    </tr>\n",
       "  </tbody>\n",
       "</table>\n",
       "</div>"
      ],
      "text/plain": [
       "                                                      text author\n",
       "id                                                               \n",
       "id26305  This process, however, afforded me no means of...    EAP\n",
       "id17569  It never once occurred to me that the fumbling...    HPL\n",
       "id11008  In his left hand was a gold snuff box, from wh...    EAP\n",
       "id27763  How lovely is spring As we looked from Windsor...    MWS\n",
       "id12958  Finding nothing else, not even gold, the Super...    HPL"
      ]
     },
     "execution_count": 43,
     "metadata": {},
     "output_type": "execute_result"
    }
   ],
   "source": [
    "train.head(5)"
   ]
  },
  {
   "cell_type": "code",
   "execution_count": 44,
   "metadata": {},
   "outputs": [],
   "source": [
    "percent_missing = 100 * train.isnull().sum()/len(train)"
   ]
  },
  {
   "cell_type": "code",
   "execution_count": 45,
   "metadata": {},
   "outputs": [
    {
     "data": {
      "text/plain": [
       "text      0.0\n",
       "author    0.0\n",
       "dtype: float64"
      ]
     },
     "execution_count": 45,
     "metadata": {},
     "output_type": "execute_result"
    }
   ],
   "source": [
    "percent_missing"
   ]
  },
  {
   "cell_type": "code",
   "execution_count": 46,
   "metadata": {},
   "outputs": [
    {
     "name": "stdout",
     "output_type": "stream",
     "text": [
      "7900 5635 6044\n"
     ]
    }
   ],
   "source": [
    "# look at class imbalance\n",
    "\n",
    "eap = (train.author == 'EAP').sum()\n",
    "hpl = (train.author == 'HPL').sum()\n",
    "mws = (train.author == 'MWS').sum()\n",
    "print(eap, hpl, mws)"
   ]
  },
  {
   "cell_type": "code",
   "execution_count": 47,
   "metadata": {},
   "outputs": [],
   "source": [
    "train.author = train.author.replace(['EAP', 'HPL', 'MWS'], ['Едгар', 'Хауърд', 'Мери'])"
   ]
  },
  {
   "cell_type": "code",
   "execution_count": 48,
   "metadata": {},
   "outputs": [
    {
     "data": {
      "image/png": "[encoded data removed]",
      "text/html": [
       "\n",
       "\n",
       "<style>\n",
       "\n",
       "</style>\n",
       "\n",
       "<div id=\"fig_el678422506330311846157082577\"></div>\n",
       "<script>\n",
       "function mpld3_load_lib(url, callback){\n",
       "  var s = document.createElement('script');\n",
       "  s.src = url;\n",
       "  s.async = true;\n",
       "  s.onreadystatechange = s.onload = callback;\n",
       "  s.onerror = function(){console.warn(\"failed to load library \" + url);};\n",
       "  document.getElementsByTagName(\"head\")[0].appendChild(s);\n",
       "}\n",
       "\n",
       "if(typeof(mpld3) !== \"undefined\" && mpld3._mpld3IsLoaded){\n",
       "   // already loaded: just create the figure\n",
       "   !function(mpld3){\n",
       "       \n",
       "       mpld3.draw_figure(\"fig_el678422506330311846157082577\", {\"data\": {\"data01\": [[-0.4, 0.0], [0.4, 0.0], [0.4, 7900.0], [-0.4, 7900.0]], \"data02\": [[0.6, 0.0], [1.4, 0.0], [1.4, 5635.0], [0.6, 5635.0]], \"data03\": [[1.6, 0.0], [2.4000000000000004, 0.0], [2.4000000000000004, 6044.0], [1.6, 6044.0]]}, \"axes\": [{\"sharex\": [], \"xlim\": [-0.5, 2.5], \"ydomain\": [0.0, 8295.0], \"yscale\": \"linear\", \"axesbgalpha\": null, \"xscale\": \"linear\", \"ylim\": [0.0, 8295.0], \"images\": [], \"bbox\": [0.125, 0.125, 0.775, 0.755], \"markers\": [], \"texts\": [{\"v_baseline\": \"hanging\", \"h_anchor\": \"middle\", \"zorder\": 3, \"color\": \"#000000\", \"rotation\": -0.0, \"fontsize\": 10.0, \"coordinates\": \"axes\", \"id\": \"el67842250903458984\", \"text\": \"author\", \"position\": [0.49999999999999994, -0.09657836644591611], \"alpha\": 1}, {\"v_baseline\": \"auto\", \"h_anchor\": \"middle\", \"zorder\": 3, \"color\": \"#000000\", \"rotation\": -90.0, \"fontsize\": 10.0, \"coordinates\": \"axes\", \"id\": \"el67842250903468128\", \"text\": \"count\", \"position\": [-0.10790023894862605, 0.49999999999999994], \"alpha\": 1}], \"sharey\": [], \"collections\": [], \"lines\": [], \"axesbg\": \"#FFFFFF\", \"axes\": [{\"nticks\": 3, \"scale\": \"linear\", \"grid\": {\"gridOn\": false}, \"position\": \"bottom\", \"fontsize\": 10.0, \"tickformat\": [\"\\u0415\\u0434\\u0433\\u0430\\u0440\", \"\\u0425\\u0430\\u0443\\u044a\\u0440\\u0434\", \"\\u041c\\u0435\\u0440\\u0438\"], \"tickvalues\": [0, 1, 2], \"visible\": true}, {\"nticks\": 10, \"scale\": \"linear\", \"grid\": {\"gridOn\": false}, \"position\": \"left\", \"fontsize\": 10.0, \"tickformat\": null, \"tickvalues\": null, \"visible\": true}], \"zoomable\": true, \"id\": \"el67842250906860344\", \"paths\": [{\"pathcodes\": [\"M\", \"L\", \"L\", \"L\", \"Z\"], \"alpha\": 1, \"xindex\": 0, \"dasharray\": \"none\", \"facecolor\": \"#3173A1\", \"data\": \"data01\", \"edgewidth\": 1.0, \"yindex\": 1, \"coordinates\": \"data\", \"id\": \"el67842250909367376\", \"edgecolor\": \"none\", \"zorder\": 1}, {\"pathcodes\": [\"M\", \"L\", \"L\", \"L\", \"Z\"], \"alpha\": 1, \"xindex\": 0, \"dasharray\": \"none\", \"facecolor\": \"#E0802C\", \"data\": \"data02\", \"edgewidth\": 1.0, \"yindex\": 1, \"coordinates\": \"data\", \"id\": \"el67842250924722552\", \"edgecolor\": \"none\", \"zorder\": 1}, {\"pathcodes\": [\"M\", \"L\", \"L\", \"L\", \"Z\"], \"alpha\": 1, \"xindex\": 0, \"dasharray\": \"none\", \"facecolor\": \"#3A913A\", \"data\": \"data03\", \"edgewidth\": 1.0, \"yindex\": 1, \"coordinates\": \"data\", \"id\": \"el67842250924721712\", \"edgecolor\": \"none\", \"zorder\": 1}], \"xdomain\": [-0.5, 2.5]}], \"width\": 432.0, \"height\": 288.0, \"id\": \"el67842250633031184\", \"plugins\": [{\"type\": \"reset\"}, {\"button\": true, \"type\": \"zoom\", \"enabled\": false}, {\"button\": true, \"type\": \"boxzoom\", \"enabled\": false}]});\n",
       "   }(mpld3);\n",
       "}else if(typeof define === \"function\" && define.amd){\n",
       "   // require.js is available: use it to load d3/mpld3\n",
       "   require.config({paths: {d3: \"https://mpld3.github.io/js/d3.v3.min\"}});\n",
       "   require([\"d3\"], function(d3){\n",
       "      window.d3 = d3;\n",
       "      mpld3_load_lib(\"https://mpld3.github.io/js/mpld3.v0.3.js\", function(){\n",
       "         \n",
       "         mpld3.draw_figure(\"fig_el678422506330311846157082577\", {\"data\": {\"data01\": [[-0.4, 0.0], [0.4, 0.0], [0.4, 7900.0], [-0.4, 7900.0]], \"data02\": [[0.6, 0.0], [1.4, 0.0], [1.4, 5635.0], [0.6, 5635.0]], \"data03\": [[1.6, 0.0], [2.4000000000000004, 0.0], [2.4000000000000004, 6044.0], [1.6, 6044.0]]}, \"axes\": [{\"sharex\": [], \"xlim\": [-0.5, 2.5], \"ydomain\": [0.0, 8295.0], \"yscale\": \"linear\", \"axesbgalpha\": null, \"xscale\": \"linear\", \"ylim\": [0.0, 8295.0], \"images\": [], \"bbox\": [0.125, 0.125, 0.775, 0.755], \"markers\": [], \"texts\": [{\"v_baseline\": \"hanging\", \"h_anchor\": \"middle\", \"zorder\": 3, \"color\": \"#000000\", \"rotation\": -0.0, \"fontsize\": 10.0, \"coordinates\": \"axes\", \"id\": \"el67842250903458984\", \"text\": \"author\", \"position\": [0.49999999999999994, -0.09657836644591611], \"alpha\": 1}, {\"v_baseline\": \"auto\", \"h_anchor\": \"middle\", \"zorder\": 3, \"color\": \"#000000\", \"rotation\": -90.0, \"fontsize\": 10.0, \"coordinates\": \"axes\", \"id\": \"el67842250903468128\", \"text\": \"count\", \"position\": [-0.10790023894862605, 0.49999999999999994], \"alpha\": 1}], \"sharey\": [], \"collections\": [], \"lines\": [], \"axesbg\": \"#FFFFFF\", \"axes\": [{\"nticks\": 3, \"scale\": \"linear\", \"grid\": {\"gridOn\": false}, \"position\": \"bottom\", \"fontsize\": 10.0, \"tickformat\": [\"\\u0415\\u0434\\u0433\\u0430\\u0440\", \"\\u0425\\u0430\\u0443\\u044a\\u0440\\u0434\", \"\\u041c\\u0435\\u0440\\u0438\"], \"tickvalues\": [0, 1, 2], \"visible\": true}, {\"nticks\": 10, \"scale\": \"linear\", \"grid\": {\"gridOn\": false}, \"position\": \"left\", \"fontsize\": 10.0, \"tickformat\": null, \"tickvalues\": null, \"visible\": true}], \"zoomable\": true, \"id\": \"el67842250906860344\", \"paths\": [{\"pathcodes\": [\"M\", \"L\", \"L\", \"L\", \"Z\"], \"alpha\": 1, \"xindex\": 0, \"dasharray\": \"none\", \"facecolor\": \"#3173A1\", \"data\": \"data01\", \"edgewidth\": 1.0, \"yindex\": 1, \"coordinates\": \"data\", \"id\": \"el67842250909367376\", \"edgecolor\": \"none\", \"zorder\": 1}, {\"pathcodes\": [\"M\", \"L\", \"L\", \"L\", \"Z\"], \"alpha\": 1, \"xindex\": 0, \"dasharray\": \"none\", \"facecolor\": \"#E0802C\", \"data\": \"data02\", \"edgewidth\": 1.0, \"yindex\": 1, \"coordinates\": \"data\", \"id\": \"el67842250924722552\", \"edgecolor\": \"none\", \"zorder\": 1}, {\"pathcodes\": [\"M\", \"L\", \"L\", \"L\", \"Z\"], \"alpha\": 1, \"xindex\": 0, \"dasharray\": \"none\", \"facecolor\": \"#3A913A\", \"data\": \"data03\", \"edgewidth\": 1.0, \"yindex\": 1, \"coordinates\": \"data\", \"id\": \"el67842250924721712\", \"edgecolor\": \"none\", \"zorder\": 1}], \"xdomain\": [-0.5, 2.5]}], \"width\": 432.0, \"height\": 288.0, \"id\": \"el67842250633031184\", \"plugins\": [{\"type\": \"reset\"}, {\"button\": true, \"type\": \"zoom\", \"enabled\": false}, {\"button\": true, \"type\": \"boxzoom\", \"enabled\": false}]});\n",
       "      });\n",
       "    });\n",
       "}else{\n",
       "    // require.js not available: dynamically load d3 & mpld3\n",
       "    mpld3_load_lib(\"https://mpld3.github.io/js/d3.v3.min.js\", function(){\n",
       "         mpld3_load_lib(\"https://mpld3.github.io/js/mpld3.v0.3.js\", function(){\n",
       "                 \n",
       "                 mpld3.draw_figure(\"fig_el678422506330311846157082577\", {\"data\": {\"data01\": [[-0.4, 0.0], [0.4, 0.0], [0.4, 7900.0], [-0.4, 7900.0]], \"data02\": [[0.6, 0.0], [1.4, 0.0], [1.4, 5635.0], [0.6, 5635.0]], \"data03\": [[1.6, 0.0], [2.4000000000000004, 0.0], [2.4000000000000004, 6044.0], [1.6, 6044.0]]}, \"axes\": [{\"sharex\": [], \"xlim\": [-0.5, 2.5], \"ydomain\": [0.0, 8295.0], \"yscale\": \"linear\", \"axesbgalpha\": null, \"xscale\": \"linear\", \"ylim\": [0.0, 8295.0], \"images\": [], \"bbox\": [0.125, 0.125, 0.775, 0.755], \"markers\": [], \"texts\": [{\"v_baseline\": \"hanging\", \"h_anchor\": \"middle\", \"zorder\": 3, \"color\": \"#000000\", \"rotation\": -0.0, \"fontsize\": 10.0, \"coordinates\": \"axes\", \"id\": \"el67842250903458984\", \"text\": \"author\", \"position\": [0.49999999999999994, -0.09657836644591611], \"alpha\": 1}, {\"v_baseline\": \"auto\", \"h_anchor\": \"middle\", \"zorder\": 3, \"color\": \"#000000\", \"rotation\": -90.0, \"fontsize\": 10.0, \"coordinates\": \"axes\", \"id\": \"el67842250903468128\", \"text\": \"count\", \"position\": [-0.10790023894862605, 0.49999999999999994], \"alpha\": 1}], \"sharey\": [], \"collections\": [], \"lines\": [], \"axesbg\": \"#FFFFFF\", \"axes\": [{\"nticks\": 3, \"scale\": \"linear\", \"grid\": {\"gridOn\": false}, \"position\": \"bottom\", \"fontsize\": 10.0, \"tickformat\": [\"\\u0415\\u0434\\u0433\\u0430\\u0440\", \"\\u0425\\u0430\\u0443\\u044a\\u0440\\u0434\", \"\\u041c\\u0435\\u0440\\u0438\"], \"tickvalues\": [0, 1, 2], \"visible\": true}, {\"nticks\": 10, \"scale\": \"linear\", \"grid\": {\"gridOn\": false}, \"position\": \"left\", \"fontsize\": 10.0, \"tickformat\": null, \"tickvalues\": null, \"visible\": true}], \"zoomable\": true, \"id\": \"el67842250906860344\", \"paths\": [{\"pathcodes\": [\"M\", \"L\", \"L\", \"L\", \"Z\"], \"alpha\": 1, \"xindex\": 0, \"dasharray\": \"none\", \"facecolor\": \"#3173A1\", \"data\": \"data01\", \"edgewidth\": 1.0, \"yindex\": 1, \"coordinates\": \"data\", \"id\": \"el67842250909367376\", \"edgecolor\": \"none\", \"zorder\": 1}, {\"pathcodes\": [\"M\", \"L\", \"L\", \"L\", \"Z\"], \"alpha\": 1, \"xindex\": 0, \"dasharray\": \"none\", \"facecolor\": \"#E0802C\", \"data\": \"data02\", \"edgewidth\": 1.0, \"yindex\": 1, \"coordinates\": \"data\", \"id\": \"el67842250924722552\", \"edgecolor\": \"none\", \"zorder\": 1}, {\"pathcodes\": [\"M\", \"L\", \"L\", \"L\", \"Z\"], \"alpha\": 1, \"xindex\": 0, \"dasharray\": \"none\", \"facecolor\": \"#3A913A\", \"data\": \"data03\", \"edgewidth\": 1.0, \"yindex\": 1, \"coordinates\": \"data\", \"id\": \"el67842250924721712\", \"edgecolor\": \"none\", \"zorder\": 1}], \"xdomain\": [-0.5, 2.5]}], \"width\": 432.0, \"height\": 288.0, \"id\": \"el67842250633031184\", \"plugins\": [{\"type\": \"reset\"}, {\"button\": true, \"type\": \"zoom\", \"enabled\": false}, {\"button\": true, \"type\": \"boxzoom\", \"enabled\": false}]});\n",
       "            })\n",
       "         });\n",
       "}\n",
       "</script>"
      ],
      "text/plain": [
       "<matplotlib.figure.Figure at 0x20c042eae10>"
      ]
     },
     "metadata": {},
     "output_type": "display_data"
    }
   ],
   "source": [
    "sns.countplot(data=train, x='author');"
   ]
  },
  {
   "cell_type": "code",
   "execution_count": 49,
   "metadata": {},
   "outputs": [
    {
     "data": {
      "text/plain": [
       "the     33296\n",
       "of      20851\n",
       "and     17059\n",
       "to      12615\n",
       "I       10382\n",
       "a       10359\n",
       "in       8787\n",
       "was      6440\n",
       "that     5988\n",
       "my       5037\n",
       "dtype: int64"
      ]
     },
     "execution_count": 49,
     "metadata": {},
     "output_type": "execute_result"
    }
   ],
   "source": [
    "all_words = train['text'].str.split(expand=True).unstack().value_counts()\n",
    "all_words.head(10)"
   ]
  },
  {
   "cell_type": "code",
   "execution_count": 50,
   "metadata": {},
   "outputs": [],
   "source": [
    "train_corpus = []\n",
    "for i in range(len(train)):\n",
    "    review = re.sub('[^a-zA-Z0-9]', ' ', train['text'][i])\n",
    "    review = review.lower()\n",
    "    review = review.split()\n",
    "    review = [word for word in review if not word in set(stopwords.words('english'))]\n",
    "    review = ' '.join(review)\n",
    "    train_corpus.append(review)"
   ]
  },
  {
   "cell_type": "code",
   "execution_count": 51,
   "metadata": {},
   "outputs": [],
   "source": [
    "test_corpus = []\n",
    "for i in range(len(test)):\n",
    "    review = re.sub('[^a-zA-Z0-9]', ' ', test['text'][i])\n",
    "    review = review.lower()\n",
    "    review = review.split()\n",
    "    review = [word for word in review if not word in set(stopwords.words('english'))]\n",
    "    review = ' '.join(review)\n",
    "    test_corpus.append(review)\n"
   ]
  },
  {
   "cell_type": "code",
   "execution_count": 58,
   "metadata": {},
   "outputs": [],
   "source": [
    "# format data for input\n",
    "X_Train = np.array(train_corpus)\n",
    "X_Test = np.array(test_corpus)\n",
    "y = train.iloc[:, 1].values"
   ]
  },
  {
   "cell_type": "code",
   "execution_count": 67,
   "metadata": {},
   "outputs": [
    {
     "data": {
      "text/plain": [
       "Pipeline(memory=None,\n",
       "     steps=[('vect', CountVectorizer(analyzer='word', binary=False, decode_error='strict',\n",
       "        dtype=<class 'numpy.int64'>, encoding='utf-8', input='content',\n",
       "        lowercase=True, max_df=1.0, max_features=None, min_df=1,\n",
       "        ngram_range=(1, 1), preprocessor=None, stop_words=None,\n",
       "        strip...inear_tf=False, use_idf=True)), ('clf', MultinomialNB(alpha=1.0, class_prior=None, fit_prior=True))])"
      ]
     },
     "execution_count": 67,
     "metadata": {},
     "output_type": "execute_result"
    }
   ],
   "source": [
    "## Multinomial Naive Bayes Classifier ##\n",
    "# Build pipeline\n",
    "from sklearn.feature_extraction.text import CountVectorizer, TfidfTransformer\n",
    "from sklearn.naive_bayes import MultinomialNB\n",
    "from sklearn.pipeline import Pipeline\n",
    "classifier = Pipeline([('vect', CountVectorizer()),\n",
    "                      ('tfidf', TfidfTransformer()),\n",
    "                      ('clf', MultinomialNB()),\n",
    "])\n",
    "classifier.fit(X_Train, y)"
   ]
  },
  {
   "cell_type": "code",
   "execution_count": 69,
   "metadata": {},
   "outputs": [
    {
     "name": "stderr",
     "output_type": "stream",
     "text": [
      "c:\\users\\viktor\\anaconda3\\envs\\tensorflow\\lib\\site-packages\\sklearn\\naive_bayes.py:472: UserWarning: alpha too small will result in numeric errors, setting alpha = 1.0e-10\n",
      "  'setting alpha = %.1e' % _ALPHA_MIN)\n",
      "c:\\users\\viktor\\anaconda3\\envs\\tensorflow\\lib\\site-packages\\sklearn\\naive_bayes.py:472: UserWarning: alpha too small will result in numeric errors, setting alpha = 1.0e-10\n",
      "  'setting alpha = %.1e' % _ALPHA_MIN)\n",
      "c:\\users\\viktor\\anaconda3\\envs\\tensorflow\\lib\\site-packages\\sklearn\\naive_bayes.py:472: UserWarning: alpha too small will result in numeric errors, setting alpha = 1.0e-10\n",
      "  'setting alpha = %.1e' % _ALPHA_MIN)\n",
      "c:\\users\\viktor\\anaconda3\\envs\\tensorflow\\lib\\site-packages\\sklearn\\naive_bayes.py:472: UserWarning: alpha too small will result in numeric errors, setting alpha = 1.0e-10\n",
      "  'setting alpha = %.1e' % _ALPHA_MIN)\n",
      "c:\\users\\viktor\\anaconda3\\envs\\tensorflow\\lib\\site-packages\\sklearn\\naive_bayes.py:472: UserWarning: alpha too small will result in numeric errors, setting alpha = 1.0e-10\n",
      "  'setting alpha = %.1e' % _ALPHA_MIN)\n",
      "c:\\users\\viktor\\anaconda3\\envs\\tensorflow\\lib\\site-packages\\sklearn\\naive_bayes.py:472: UserWarning: alpha too small will result in numeric errors, setting alpha = 1.0e-10\n",
      "  'setting alpha = %.1e' % _ALPHA_MIN)\n",
      "c:\\users\\viktor\\anaconda3\\envs\\tensorflow\\lib\\site-packages\\sklearn\\naive_bayes.py:472: UserWarning: alpha too small will result in numeric errors, setting alpha = 1.0e-10\n",
      "  'setting alpha = %.1e' % _ALPHA_MIN)\n",
      "c:\\users\\viktor\\anaconda3\\envs\\tensorflow\\lib\\site-packages\\sklearn\\naive_bayes.py:472: UserWarning: alpha too small will result in numeric errors, setting alpha = 1.0e-10\n",
      "  'setting alpha = %.1e' % _ALPHA_MIN)\n",
      "c:\\users\\viktor\\anaconda3\\envs\\tensorflow\\lib\\site-packages\\sklearn\\naive_bayes.py:472: UserWarning: alpha too small will result in numeric errors, setting alpha = 1.0e-10\n",
      "  'setting alpha = %.1e' % _ALPHA_MIN)\n",
      "c:\\users\\viktor\\anaconda3\\envs\\tensorflow\\lib\\site-packages\\sklearn\\naive_bayes.py:472: UserWarning: alpha too small will result in numeric errors, setting alpha = 1.0e-10\n",
      "  'setting alpha = %.1e' % _ALPHA_MIN)\n",
      "c:\\users\\viktor\\anaconda3\\envs\\tensorflow\\lib\\site-packages\\sklearn\\naive_bayes.py:472: UserWarning: alpha too small will result in numeric errors, setting alpha = 1.0e-10\n",
      "  'setting alpha = %.1e' % _ALPHA_MIN)\n",
      "c:\\users\\viktor\\anaconda3\\envs\\tensorflow\\lib\\site-packages\\sklearn\\naive_bayes.py:472: UserWarning: alpha too small will result in numeric errors, setting alpha = 1.0e-10\n",
      "  'setting alpha = %.1e' % _ALPHA_MIN)\n",
      "c:\\users\\viktor\\anaconda3\\envs\\tensorflow\\lib\\site-packages\\sklearn\\naive_bayes.py:472: UserWarning: alpha too small will result in numeric errors, setting alpha = 1.0e-10\n",
      "  'setting alpha = %.1e' % _ALPHA_MIN)\n",
      "c:\\users\\viktor\\anaconda3\\envs\\tensorflow\\lib\\site-packages\\sklearn\\naive_bayes.py:472: UserWarning: alpha too small will result in numeric errors, setting alpha = 1.0e-10\n",
      "  'setting alpha = %.1e' % _ALPHA_MIN)\n",
      "c:\\users\\viktor\\anaconda3\\envs\\tensorflow\\lib\\site-packages\\sklearn\\naive_bayes.py:472: UserWarning: alpha too small will result in numeric errors, setting alpha = 1.0e-10\n",
      "  'setting alpha = %.1e' % _ALPHA_MIN)\n",
      "c:\\users\\viktor\\anaconda3\\envs\\tensorflow\\lib\\site-packages\\sklearn\\naive_bayes.py:472: UserWarning: alpha too small will result in numeric errors, setting alpha = 1.0e-10\n",
      "  'setting alpha = %.1e' % _ALPHA_MIN)\n",
      "c:\\users\\viktor\\anaconda3\\envs\\tensorflow\\lib\\site-packages\\sklearn\\naive_bayes.py:472: UserWarning: alpha too small will result in numeric errors, setting alpha = 1.0e-10\n",
      "  'setting alpha = %.1e' % _ALPHA_MIN)\n",
      "c:\\users\\viktor\\anaconda3\\envs\\tensorflow\\lib\\site-packages\\sklearn\\naive_bayes.py:472: UserWarning: alpha too small will result in numeric errors, setting alpha = 1.0e-10\n",
      "  'setting alpha = %.1e' % _ALPHA_MIN)\n"
     ]
    },
    {
     "data": {
      "text/plain": [
       "GridSearchCV(cv=None, error_score='raise',\n",
       "       estimator=Pipeline(memory=None,\n",
       "     steps=[('vect', CountVectorizer(analyzer='word', binary=False, decode_error='strict',\n",
       "        dtype=<class 'numpy.int64'>, encoding='utf-8', input='content',\n",
       "        lowercase=True, max_df=1.0, max_features=None, min_df=1,\n",
       "        ngram_range=(1, 1), preprocessor=None, stop_words=None,\n",
       "        strip...inear_tf=False, use_idf=True)), ('clf', MultinomialNB(alpha=1.0, class_prior=None, fit_prior=True))]),\n",
       "       fit_params=None, iid=True, n_jobs=1,\n",
       "       param_grid={'vect__ngram_range': [(1, 1), (1, 2), (1, 3)], 'tfidf__use_idf': (True, False), 'clf__alpha': (0, 0.01, 0.05, 0.1, 0.3, 0.5)},\n",
       "       pre_dispatch='2*n_jobs', refit=True, return_train_score='warn',\n",
       "       scoring=None, verbose=0)"
      ]
     },
     "execution_count": 69,
     "metadata": {},
     "output_type": "execute_result"
    }
   ],
   "source": [
    "# parameter tuning with grid search\n",
    "from sklearn.model_selection import GridSearchCV\n",
    "parameters = {'vect__ngram_range': [(1, 1), (1, 2), (1, 3)],\n",
    "              'tfidf__use_idf': (True, False),\n",
    "              'clf__alpha': (0, 0.01, 0.05, 0.1, 0.3, 0.5),\n",
    "}\n",
    "model = GridSearchCV(classifier, parameters)\n",
    "model.fit(X_Train, y)"
   ]
  },
  {
   "cell_type": "code",
   "execution_count": 70,
   "metadata": {},
   "outputs": [
    {
     "data": {
      "text/plain": [
       "array([0.85094975, 0.84891204, 0.84858238])"
      ]
     },
     "execution_count": 70,
     "metadata": {},
     "output_type": "execute_result"
    }
   ],
   "source": [
    "from sklearn.model_selection import cross_val_score\n",
    "cross_val_score(model, train.text, train.author, cv=3, n_jobs=3)"
   ]
  }
 ],
 "metadata": {
  "kernelspec": {
   "display_name": "Python 3",
   "language": "python",
   "name": "python3"
  },
  "language_info": {
   "codemirror_mode": {
    "name": "ipython",
    "version": 3
   },
   "file_extension": ".py",
   "mimetype": "text/x-python",
   "name": "python",
   "nbconvert_exporter": "python",
   "pygments_lexer": "ipython3",
   "version": "3.5.4"
  }
 },
 "nbformat": 4,
 "nbformat_minor": 2
}
